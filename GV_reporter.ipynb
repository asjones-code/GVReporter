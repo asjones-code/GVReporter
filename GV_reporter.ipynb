{
 "cells": [
  {
   "cell_type": "code",
   "execution_count": 1,
   "metadata": {},
   "outputs": [],
   "source": [
    "# Gun Violence Report App\n",
    "# Adam Jones, 2020\n",
    "# This application is designed to quickly calculate data regarding gun crime. All data used is\n",
    "# from the Gun Violence Archive (https://www.gunviolencearchive.org/). The motivation behind \n",
    "# this app was to provide some personal practice in Python as well as understand patterns of\n",
    "# gun violence in my hometown, NYC. Fortunately, the technologies used in this app can easily\n",
    "# be modified for other uses. The core functionality of this app are to scrape a website, \n",
    "# navigate to a specific URL, generate and download a CSV for manipulation in Pandas. By \n",
    "# combining Selenium, BeautifulSoup, and CloudFlare Scraper, this task wasn't too difficult.\n"
   ]
  },
  {
   "cell_type": "code",
   "execution_count": 2,
   "metadata": {},
   "outputs": [],
   "source": [
    "#Pandas, NumPY, Seaborn, and MatPlotLib\n",
    "import pandas as pd\n",
    "import numpy as np \n",
    "import seaborn as sns\n",
    "import matplotlib.pyplot as plt\n",
    "from IPython.display import display_html \n"
   ]
  },
  {
   "cell_type": "code",
   "execution_count": 3,
   "metadata": {},
   "outputs": [],
   "source": [
    "#Web Scraper Stuff \n",
    "import cfscrape as cloud\n",
    "import re\n",
    "import requests\n",
    "from bs4 import BeautifulSoup as bs\n",
    "from selenium import webdriver\n",
    "from selenium.webdriver import Firefox\n",
    "from selenium.webdriver.firefox.options import Options\n",
    "from selenium.webdriver.common.keys import Keys\n",
    "import os\n",
    "import shutil"
   ]
  },
  {
   "cell_type": "code",
   "execution_count": 4,
   "metadata": {},
   "outputs": [],
   "source": [
    "#Scraping and Souping \n",
    "baseurl = 'https://www.gunviolencearchive.org'\n",
    "scraper = cloud.create_scraper()\n",
    "site = scraper.get(\"https://www.gunviolencearchive.org/last-72-hours\").content\n",
    "soup = bs(site, 'html')"
   ]
  },
  {
   "cell_type": "code",
   "execution_count": 5,
   "metadata": {},
   "outputs": [],
   "source": [
    "#Selecting the query(s) from the soup and concatenating to baseurl\n",
    "link = soup.select(\"a[href*=export-csv]\")\n",
    "strlink =str(link)\n",
    "oneofem=re.findall(r'\"(.*?)\"', strlink)\n",
    "betterhalf=(oneofem[1])\n",
    "fullurl = baseurl + betterhalf"
   ]
  },
  {
   "cell_type": "code",
   "execution_count": 6,
   "metadata": {},
   "outputs": [],
   "source": [
    "#Settings for your headless browser (Firefox/Selenium)\n",
    "opts = Options()\n",
    "opts.headless = True\n",
    "fp = webdriver.FirefoxProfile()\n",
    "fp.set_preference('browser.download.folderList', 2)\n",
    "fp.set_preference('browser.download.manager.showWhenStarting', False)\n",
    "fp.set_preference('browser.download.dir', os.getcwd())\n",
    "fp.set_preference('browser.helperApps.neverAsk.saveToDisk', 'application/vnd.ms-excel')\n",
    "\n",
    "\n"
   ]
  },
  {
   "cell_type": "code",
   "execution_count": 7,
   "metadata": {},
   "outputs": [
    {
     "name": "stdout",
     "output_type": "stream",
     "text": [
      "The query is loading...\n",
      "/Users/homefolder/GUN/awy5hi7l.csv.part has been downloaded and renamed to data.csv\n"
     ]
    }
   ],
   "source": [
    "#Executing the query in browser and hunting for downloadable CSV element\n",
    "driver = webdriver.Firefox(fp, options=opts)\n",
    "driver.implicitly_wait(5)\n",
    "driver.get(fullurl)\n",
    "delay=5\n",
    "dl = bs(driver.page_source, 'html')\n",
    "dlstr = dl.select(\"a[href*=csv]\")\n",
    "print('The query is loading...')\n",
    "while dlstr == []:\n",
    "    dl = bs(driver.page_source, 'html')\n",
    "    dlstr = dl.select(\"a[href*=csv]\")\n",
    "    x=0\n",
    "\n",
    "element = driver.find_element_by_link_text(\"Download\")\n",
    "\n",
    "element.click()\n",
    "\n",
    "#I can't speak too much to this code, got it from StackOverflow\n",
    "#https://stackoverflow.com/questions/34548041/selenium-give-file-name-when-downloading\n",
    "\n",
    "time_to_wait = 10\n",
    "time_counter = 0\n",
    "while not os.path.exists(os.getcwd()):\n",
    "    time.sleep(1)\n",
    "    time_counter += 1\n",
    "    if time_counter > time_to_wait:break\n",
    "Initial_path=os.getcwd()\n",
    "filename = max([Initial_path + \"/\" + f for f in os.listdir(Initial_path)],key=os.path.getctime)\n",
    "shutil.move(filename,os.path.join(Initial_path,r\"data.csv\"))\n",
    "print(filename + ' has been downloaded and renamed to data.csv')\n",
    "driver.quit()\n"
   ]
  },
  {
   "cell_type": "code",
   "execution_count": 8,
   "metadata": {},
   "outputs": [
    {
     "data": {
      "text/html": [
       "<div>\n",
       "<style scoped>\n",
       "    .dataframe tbody tr th:only-of-type {\n",
       "        vertical-align: middle;\n",
       "    }\n",
       "\n",
       "    .dataframe tbody tr th {\n",
       "        vertical-align: top;\n",
       "    }\n",
       "\n",
       "    .dataframe thead th {\n",
       "        text-align: right;\n",
       "    }\n",
       "</style>\n",
       "<table border=\"1\" class=\"dataframe\">\n",
       "  <thead>\n",
       "    <tr style=\"text-align: right;\">\n",
       "      <th></th>\n",
       "      <th>Incident_Date</th>\n",
       "      <th>State</th>\n",
       "      <th>City_Or_County</th>\n",
       "      <th>Address</th>\n",
       "      <th>no_Killed</th>\n",
       "      <th>no_Injured</th>\n",
       "      <th>Operations</th>\n",
       "    </tr>\n",
       "  </thead>\n",
       "  <tbody>\n",
       "    <tr>\n",
       "      <th>0</th>\n",
       "      <td>July 27, 2020</td>\n",
       "      <td>Illinois</td>\n",
       "      <td>Chicago</td>\n",
       "      <td>2000 block of E 66th St</td>\n",
       "      <td>0</td>\n",
       "      <td>1</td>\n",
       "      <td>NaN</td>\n",
       "    </tr>\n",
       "    <tr>\n",
       "      <th>1</th>\n",
       "      <td>July 27, 2020</td>\n",
       "      <td>Illinois</td>\n",
       "      <td>Chicago</td>\n",
       "      <td>5100 block of S Michigan Ave</td>\n",
       "      <td>0</td>\n",
       "      <td>1</td>\n",
       "      <td>NaN</td>\n",
       "    </tr>\n",
       "    <tr>\n",
       "      <th>2</th>\n",
       "      <td>July 27, 2020</td>\n",
       "      <td>Florida</td>\n",
       "      <td>Saint Petersburg</td>\n",
       "      <td>16th St S and 16th Ave S</td>\n",
       "      <td>0</td>\n",
       "      <td>1</td>\n",
       "      <td>NaN</td>\n",
       "    </tr>\n",
       "    <tr>\n",
       "      <th>3</th>\n",
       "      <td>July 27, 2020</td>\n",
       "      <td>Maryland</td>\n",
       "      <td>Baltimore</td>\n",
       "      <td>3800 block of Fear Ave</td>\n",
       "      <td>0</td>\n",
       "      <td>2</td>\n",
       "      <td>NaN</td>\n",
       "    </tr>\n",
       "    <tr>\n",
       "      <th>4</th>\n",
       "      <td>July 27, 2020</td>\n",
       "      <td>Pennsylvania</td>\n",
       "      <td>Pittsburgh</td>\n",
       "      <td>2700 block of Glen Mawr St</td>\n",
       "      <td>0</td>\n",
       "      <td>1</td>\n",
       "      <td>NaN</td>\n",
       "    </tr>\n",
       "    <tr>\n",
       "      <th>...</th>\n",
       "      <td>...</td>\n",
       "      <td>...</td>\n",
       "      <td>...</td>\n",
       "      <td>...</td>\n",
       "      <td>...</td>\n",
       "      <td>...</td>\n",
       "      <td>...</td>\n",
       "    </tr>\n",
       "    <tr>\n",
       "      <th>420</th>\n",
       "      <td>July 24, 2020</td>\n",
       "      <td>Texas</td>\n",
       "      <td>Houston</td>\n",
       "      <td>6300 block of Windswept Ln</td>\n",
       "      <td>0</td>\n",
       "      <td>1</td>\n",
       "      <td>NaN</td>\n",
       "    </tr>\n",
       "    <tr>\n",
       "      <th>421</th>\n",
       "      <td>July 24, 2020</td>\n",
       "      <td>South Carolina</td>\n",
       "      <td>Florence</td>\n",
       "      <td>Dixie St and Harrell St</td>\n",
       "      <td>0</td>\n",
       "      <td>0</td>\n",
       "      <td>NaN</td>\n",
       "    </tr>\n",
       "    <tr>\n",
       "      <th>422</th>\n",
       "      <td>July 24, 2020</td>\n",
       "      <td>California</td>\n",
       "      <td>Bakersfield</td>\n",
       "      <td>S Union Ave and Wilson Rd</td>\n",
       "      <td>0</td>\n",
       "      <td>1</td>\n",
       "      <td>NaN</td>\n",
       "    </tr>\n",
       "    <tr>\n",
       "      <th>423</th>\n",
       "      <td>July 24, 2020</td>\n",
       "      <td>California</td>\n",
       "      <td>El Monte</td>\n",
       "      <td>3400 block of Durfee Ave</td>\n",
       "      <td>1</td>\n",
       "      <td>0</td>\n",
       "      <td>NaN</td>\n",
       "    </tr>\n",
       "    <tr>\n",
       "      <th>424</th>\n",
       "      <td>July 24, 2020</td>\n",
       "      <td>Illinois</td>\n",
       "      <td>Chicago</td>\n",
       "      <td>S Yates Blvd and E 71st St</td>\n",
       "      <td>0</td>\n",
       "      <td>1</td>\n",
       "      <td>NaN</td>\n",
       "    </tr>\n",
       "  </tbody>\n",
       "</table>\n",
       "<p>425 rows × 7 columns</p>\n",
       "</div>"
      ],
      "text/plain": [
       "     Incident_Date           State    City_Or_County  \\\n",
       "0    July 27, 2020        Illinois           Chicago   \n",
       "1    July 27, 2020        Illinois           Chicago   \n",
       "2    July 27, 2020         Florida  Saint Petersburg   \n",
       "3    July 27, 2020        Maryland         Baltimore   \n",
       "4    July 27, 2020    Pennsylvania        Pittsburgh   \n",
       "..             ...             ...               ...   \n",
       "420  July 24, 2020           Texas           Houston   \n",
       "421  July 24, 2020  South Carolina          Florence   \n",
       "422  July 24, 2020      California       Bakersfield   \n",
       "423  July 24, 2020      California          El Monte   \n",
       "424  July 24, 2020        Illinois           Chicago   \n",
       "\n",
       "                          Address  no_Killed  no_Injured  Operations  \n",
       "0         2000 block of E 66th St          0           1         NaN  \n",
       "1    5100 block of S Michigan Ave          0           1         NaN  \n",
       "2        16th St S and 16th Ave S          0           1         NaN  \n",
       "3          3800 block of Fear Ave          0           2         NaN  \n",
       "4      2700 block of Glen Mawr St          0           1         NaN  \n",
       "..                            ...        ...         ...         ...  \n",
       "420    6300 block of Windswept Ln          0           1         NaN  \n",
       "421       Dixie St and Harrell St          0           0         NaN  \n",
       "422     S Union Ave and Wilson Rd          0           1         NaN  \n",
       "423      3400 block of Durfee Ave          1           0         NaN  \n",
       "424    S Yates Blvd and E 71st St          0           1         NaN  \n",
       "\n",
       "[425 rows x 7 columns]"
      ]
     },
     "execution_count": 8,
     "metadata": {},
     "output_type": "execute_result"
    }
   ],
   "source": [
    "#Importing CSV and fixing column names\n",
    "bang = pd.read_csv('data.csv')\n",
    "bang.columns = bang.columns.str.replace(' ', '_')\n",
    "bang.columns = bang.columns.str.replace('#', 'no')\n",
    "bang"
   ]
  },
  {
   "cell_type": "code",
   "execution_count": 9,
   "metadata": {},
   "outputs": [],
   "source": [
    "df1=bang.groupby(['State']).sum().sort_values('no_Killed', ascending=False).drop([\"Operations\",'no_Injured'], axis=1).head(10)\n",
    "df2=bang.groupby(['State']).sum().sort_values('no_Injured', ascending=False).drop([\"Operations\",'no_Killed'], axis=1).head(10)\n",
    "df3=bang.groupby(['State']).count().sort_values('no_Injured', ascending=False).drop(['Operations', 'Address', 'no_Injured', 'no_Killed', 'City_Or_County'], axis=1).head(10)\n",
    "df3.columns = ['no_Incidents']\n",
    "df1_styler = df1.style.set_table_attributes(\"style='display:inline'\").set_caption('Caption table 1')\n",
    "df2_styler = df2.style.set_table_attributes(\"style='display:inline'\").set_caption('Caption table 2')\n",
    "df3_styler = df3.style.set_table_attributes(\"style='display:inline'\").set_caption('Caption table 3')\n",
    "\n"
   ]
  },
  {
   "cell_type": "code",
   "execution_count": 10,
   "metadata": {},
   "outputs": [
    {
     "data": {
      "text/html": [
       "<style  type=\"text/css\" >\n",
       "</style><table id=\"T_157d3e0a_d027_11ea_a985_f21898a094b5\" style='display:inline'><caption>Caption table 1</caption><thead>    <tr>        <th class=\"blank level0\" ></th>        <th class=\"col_heading level0 col0\" >no_Killed</th>    </tr>    <tr>        <th class=\"index_name level0\" >State</th>        <th class=\"blank\" ></th>    </tr></thead><tbody>\n",
       "                <tr>\n",
       "                        <th id=\"T_157d3e0a_d027_11ea_a985_f21898a094b5level0_row0\" class=\"row_heading level0 row0\" >California</th>\n",
       "                        <td id=\"T_157d3e0a_d027_11ea_a985_f21898a094b5row0_col0\" class=\"data row0 col0\" >11</td>\n",
       "            </tr>\n",
       "            <tr>\n",
       "                        <th id=\"T_157d3e0a_d027_11ea_a985_f21898a094b5level0_row1\" class=\"row_heading level0 row1\" >Texas</th>\n",
       "                        <td id=\"T_157d3e0a_d027_11ea_a985_f21898a094b5row1_col0\" class=\"data row1 col0\" >10</td>\n",
       "            </tr>\n",
       "            <tr>\n",
       "                        <th id=\"T_157d3e0a_d027_11ea_a985_f21898a094b5level0_row2\" class=\"row_heading level0 row2\" >Florida</th>\n",
       "                        <td id=\"T_157d3e0a_d027_11ea_a985_f21898a094b5row2_col0\" class=\"data row2 col0\" >10</td>\n",
       "            </tr>\n",
       "            <tr>\n",
       "                        <th id=\"T_157d3e0a_d027_11ea_a985_f21898a094b5level0_row3\" class=\"row_heading level0 row3\" >Illinois</th>\n",
       "                        <td id=\"T_157d3e0a_d027_11ea_a985_f21898a094b5row3_col0\" class=\"data row3 col0\" >9</td>\n",
       "            </tr>\n",
       "            <tr>\n",
       "                        <th id=\"T_157d3e0a_d027_11ea_a985_f21898a094b5level0_row4\" class=\"row_heading level0 row4\" >Missouri</th>\n",
       "                        <td id=\"T_157d3e0a_d027_11ea_a985_f21898a094b5row4_col0\" class=\"data row4 col0\" >7</td>\n",
       "            </tr>\n",
       "            <tr>\n",
       "                        <th id=\"T_157d3e0a_d027_11ea_a985_f21898a094b5level0_row5\" class=\"row_heading level0 row5\" >New York</th>\n",
       "                        <td id=\"T_157d3e0a_d027_11ea_a985_f21898a094b5row5_col0\" class=\"data row5 col0\" >7</td>\n",
       "            </tr>\n",
       "            <tr>\n",
       "                        <th id=\"T_157d3e0a_d027_11ea_a985_f21898a094b5level0_row6\" class=\"row_heading level0 row6\" >Ohio</th>\n",
       "                        <td id=\"T_157d3e0a_d027_11ea_a985_f21898a094b5row6_col0\" class=\"data row6 col0\" >6</td>\n",
       "            </tr>\n",
       "            <tr>\n",
       "                        <th id=\"T_157d3e0a_d027_11ea_a985_f21898a094b5level0_row7\" class=\"row_heading level0 row7\" >Kentucky</th>\n",
       "                        <td id=\"T_157d3e0a_d027_11ea_a985_f21898a094b5row7_col0\" class=\"data row7 col0\" >5</td>\n",
       "            </tr>\n",
       "            <tr>\n",
       "                        <th id=\"T_157d3e0a_d027_11ea_a985_f21898a094b5level0_row8\" class=\"row_heading level0 row8\" >North Carolina</th>\n",
       "                        <td id=\"T_157d3e0a_d027_11ea_a985_f21898a094b5row8_col0\" class=\"data row8 col0\" >5</td>\n",
       "            </tr>\n",
       "            <tr>\n",
       "                        <th id=\"T_157d3e0a_d027_11ea_a985_f21898a094b5level0_row9\" class=\"row_heading level0 row9\" >Pennsylvania</th>\n",
       "                        <td id=\"T_157d3e0a_d027_11ea_a985_f21898a094b5row9_col0\" class=\"data row9 col0\" >4</td>\n",
       "            </tr>\n",
       "    </tbody></table>   <style  type=\"text/css\" >\n",
       "</style><table id=\"T_157e5664_d027_11ea_a985_f21898a094b5\" style='display:inline'><caption>Caption table 2</caption><thead>    <tr>        <th class=\"blank level0\" ></th>        <th class=\"col_heading level0 col0\" >no_Injured</th>    </tr>    <tr>        <th class=\"index_name level0\" >State</th>        <th class=\"blank\" ></th>    </tr></thead><tbody>\n",
       "                <tr>\n",
       "                        <th id=\"T_157e5664_d027_11ea_a985_f21898a094b5level0_row0\" class=\"row_heading level0 row0\" >Illinois</th>\n",
       "                        <td id=\"T_157e5664_d027_11ea_a985_f21898a094b5row0_col0\" class=\"data row0 col0\" >62</td>\n",
       "            </tr>\n",
       "            <tr>\n",
       "                        <th id=\"T_157e5664_d027_11ea_a985_f21898a094b5level0_row1\" class=\"row_heading level0 row1\" >New York</th>\n",
       "                        <td id=\"T_157e5664_d027_11ea_a985_f21898a094b5row1_col0\" class=\"data row1 col0\" >33</td>\n",
       "            </tr>\n",
       "            <tr>\n",
       "                        <th id=\"T_157e5664_d027_11ea_a985_f21898a094b5level0_row2\" class=\"row_heading level0 row2\" >California</th>\n",
       "                        <td id=\"T_157e5664_d027_11ea_a985_f21898a094b5row2_col0\" class=\"data row2 col0\" >28</td>\n",
       "            </tr>\n",
       "            <tr>\n",
       "                        <th id=\"T_157e5664_d027_11ea_a985_f21898a094b5level0_row3\" class=\"row_heading level0 row3\" >Missouri</th>\n",
       "                        <td id=\"T_157e5664_d027_11ea_a985_f21898a094b5row3_col0\" class=\"data row3 col0\" >23</td>\n",
       "            </tr>\n",
       "            <tr>\n",
       "                        <th id=\"T_157e5664_d027_11ea_a985_f21898a094b5level0_row4\" class=\"row_heading level0 row4\" >Texas</th>\n",
       "                        <td id=\"T_157e5664_d027_11ea_a985_f21898a094b5row4_col0\" class=\"data row4 col0\" >21</td>\n",
       "            </tr>\n",
       "            <tr>\n",
       "                        <th id=\"T_157e5664_d027_11ea_a985_f21898a094b5level0_row5\" class=\"row_heading level0 row5\" >North Carolina</th>\n",
       "                        <td id=\"T_157e5664_d027_11ea_a985_f21898a094b5row5_col0\" class=\"data row5 col0\" >19</td>\n",
       "            </tr>\n",
       "            <tr>\n",
       "                        <th id=\"T_157e5664_d027_11ea_a985_f21898a094b5level0_row6\" class=\"row_heading level0 row6\" >Michigan</th>\n",
       "                        <td id=\"T_157e5664_d027_11ea_a985_f21898a094b5row6_col0\" class=\"data row6 col0\" >19</td>\n",
       "            </tr>\n",
       "            <tr>\n",
       "                        <th id=\"T_157e5664_d027_11ea_a985_f21898a094b5level0_row7\" class=\"row_heading level0 row7\" >Florida</th>\n",
       "                        <td id=\"T_157e5664_d027_11ea_a985_f21898a094b5row7_col0\" class=\"data row7 col0\" >18</td>\n",
       "            </tr>\n",
       "            <tr>\n",
       "                        <th id=\"T_157e5664_d027_11ea_a985_f21898a094b5level0_row8\" class=\"row_heading level0 row8\" >Ohio</th>\n",
       "                        <td id=\"T_157e5664_d027_11ea_a985_f21898a094b5row8_col0\" class=\"data row8 col0\" >15</td>\n",
       "            </tr>\n",
       "            <tr>\n",
       "                        <th id=\"T_157e5664_d027_11ea_a985_f21898a094b5level0_row9\" class=\"row_heading level0 row9\" >Kentucky</th>\n",
       "                        <td id=\"T_157e5664_d027_11ea_a985_f21898a094b5row9_col0\" class=\"data row9 col0\" >13</td>\n",
       "            </tr>\n",
       "    </tbody></table>   <style  type=\"text/css\" >\n",
       "</style><table id=\"T_157f5e10_d027_11ea_a985_f21898a094b5\" style='display:inline'><caption>Caption table 3</caption><thead>    <tr>        <th class=\"blank level0\" ></th>        <th class=\"col_heading level0 col0\" >no_Incidents</th>    </tr>    <tr>        <th class=\"index_name level0\" >State</th>        <th class=\"blank\" ></th>    </tr></thead><tbody>\n",
       "                <tr>\n",
       "                        <th id=\"T_157f5e10_d027_11ea_a985_f21898a094b5level0_row0\" class=\"row_heading level0 row0\" >Illinois</th>\n",
       "                        <td id=\"T_157f5e10_d027_11ea_a985_f21898a094b5row0_col0\" class=\"data row0 col0\" >56</td>\n",
       "            </tr>\n",
       "            <tr>\n",
       "                        <th id=\"T_157f5e10_d027_11ea_a985_f21898a094b5level0_row1\" class=\"row_heading level0 row1\" >New York</th>\n",
       "                        <td id=\"T_157f5e10_d027_11ea_a985_f21898a094b5row1_col0\" class=\"data row1 col0\" >45</td>\n",
       "            </tr>\n",
       "            <tr>\n",
       "                        <th id=\"T_157f5e10_d027_11ea_a985_f21898a094b5level0_row2\" class=\"row_heading level0 row2\" >California</th>\n",
       "                        <td id=\"T_157f5e10_d027_11ea_a985_f21898a094b5row2_col0\" class=\"data row2 col0\" >30</td>\n",
       "            </tr>\n",
       "            <tr>\n",
       "                        <th id=\"T_157f5e10_d027_11ea_a985_f21898a094b5level0_row3\" class=\"row_heading level0 row3\" >Missouri</th>\n",
       "                        <td id=\"T_157f5e10_d027_11ea_a985_f21898a094b5row3_col0\" class=\"data row3 col0\" >23</td>\n",
       "            </tr>\n",
       "            <tr>\n",
       "                        <th id=\"T_157f5e10_d027_11ea_a985_f21898a094b5level0_row4\" class=\"row_heading level0 row4\" >Texas</th>\n",
       "                        <td id=\"T_157f5e10_d027_11ea_a985_f21898a094b5row4_col0\" class=\"data row4 col0\" >23</td>\n",
       "            </tr>\n",
       "            <tr>\n",
       "                        <th id=\"T_157f5e10_d027_11ea_a985_f21898a094b5level0_row5\" class=\"row_heading level0 row5\" >Florida</th>\n",
       "                        <td id=\"T_157f5e10_d027_11ea_a985_f21898a094b5row5_col0\" class=\"data row5 col0\" >21</td>\n",
       "            </tr>\n",
       "            <tr>\n",
       "                        <th id=\"T_157f5e10_d027_11ea_a985_f21898a094b5level0_row6\" class=\"row_heading level0 row6\" >Michigan</th>\n",
       "                        <td id=\"T_157f5e10_d027_11ea_a985_f21898a094b5row6_col0\" class=\"data row6 col0\" >20</td>\n",
       "            </tr>\n",
       "            <tr>\n",
       "                        <th id=\"T_157f5e10_d027_11ea_a985_f21898a094b5level0_row7\" class=\"row_heading level0 row7\" >North Carolina</th>\n",
       "                        <td id=\"T_157f5e10_d027_11ea_a985_f21898a094b5row7_col0\" class=\"data row7 col0\" >16</td>\n",
       "            </tr>\n",
       "            <tr>\n",
       "                        <th id=\"T_157f5e10_d027_11ea_a985_f21898a094b5level0_row8\" class=\"row_heading level0 row8\" >Ohio</th>\n",
       "                        <td id=\"T_157f5e10_d027_11ea_a985_f21898a094b5row8_col0\" class=\"data row8 col0\" >15</td>\n",
       "            </tr>\n",
       "            <tr>\n",
       "                        <th id=\"T_157f5e10_d027_11ea_a985_f21898a094b5level0_row9\" class=\"row_heading level0 row9\" >Wisconsin</th>\n",
       "                        <td id=\"T_157f5e10_d027_11ea_a985_f21898a094b5row9_col0\" class=\"data row9 col0\" >14</td>\n",
       "            </tr>\n",
       "    </tbody></table>"
      ]
     },
     "metadata": {},
     "output_type": "display_data"
    }
   ],
   "source": [
    "#Top 10 States by Homicides + Top 10 States by Injuries (72 hour window)\n",
    "display_html(df1_styler._repr_html_()+\"\\xa0\\xa0\\xa0\"+df2_styler._repr_html_()+\"\\xa0\\xa0\\xa0\" +df3_styler._repr_html_(), raw=True)"
   ]
  },
  {
   "cell_type": "code",
   "execution_count": 11,
   "metadata": {},
   "outputs": [],
   "source": [
    "#Use iloc to choose state\n",
    "bangny=bang.loc[bang['State'] == 'New York']"
   ]
  },
  {
   "cell_type": "code",
   "execution_count": 12,
   "metadata": {},
   "outputs": [],
   "source": [
    "#Create array to include select city\n",
    "fiveboros = ['New York (Manhattan)', 'Brooklyn', 'Bronx', 'Corona (Queens)', 'Staten Island']\n",
    "metro = bangny['City_Or_County'].isin(fiveboros)\n"
   ]
  },
  {
   "cell_type": "code",
   "execution_count": 13,
   "metadata": {},
   "outputs": [
    {
     "data": {
      "image/png": "[encoded data removed]",
      "text/plain": [
       "<Figure size 432x288 with 1 Axes>"
      ]
     },
     "metadata": {},
     "output_type": "display_data"
    }
   ],
   "source": [
    "df5 = bangny[metro].groupby('City_Or_County', as_index=True).size()\n",
    "df5.columns =[['City_Or_County','no_Incidents']]\n",
    "df5=df5.to_frame()\n",
    "sns.set_style(\"dark\")\n",
    "#bp1= sns.barplot(x=df5.index, y=0, data=df5)\n",
    "bp1= df5.reset_index()\n",
    "\n",
    "bp3= sns.barplot(x='City_Or_County', y=0, data=bp1)\n",
    "\n"
   ]
  },
  {
   "cell_type": "code",
   "execution_count": 14,
   "metadata": {},
   "outputs": [],
   "source": [
    "Incident_Date= bangny[metro]['Incident_Date']\n",
    "no_Injured= bangny[metro]['no_Injured']\n",
    "no_Killed= bangny[metro]['no_Killed']\n",
    "\n",
    "premelt = pd.DataFrame({\n",
    "                   'Incident_Date': Incident_Date,\n",
    "                   'no_Injured': no_Injured,\n",
    "                   'no_Killed': no_Killed},\n",
    "                    columns = ['Incident_Date','no_Injured','no_Killed'])"
   ]
  },
  {
   "cell_type": "code",
   "execution_count": 15,
   "metadata": {},
   "outputs": [
    {
     "data": {
      "image/png": "[encoded data removed]",
      "text/plain": [
       "<Figure size 432x288 with 1 Axes>"
      ]
     },
     "metadata": {},
     "output_type": "display_data"
    }
   ],
   "source": [
    "df4 = pd.melt(premelt, id_vars=['Incident_Date']).sort_values(['variable','value']).sort_values('Incident_Date')\n",
    "df4= df4.groupby(['Incident_Date', 'variable']).sum()\n",
    "bp= df4.reset_index()\n",
    "#bp.info()\n",
    "bp = sns.barplot(x='Incident_Date', y='value', hue='variable', data=bp)\n"
   ]
  },
  {
   "cell_type": "code",
   "execution_count": null,
   "metadata": {},
   "outputs": [],
   "source": []
  },
  {
   "cell_type": "code",
   "execution_count": null,
   "metadata": {},
   "outputs": [],
   "source": []
  },
  {
   "cell_type": "code",
   "execution_count": null,
   "metadata": {},
   "outputs": [],
   "source": []
  },
  {
   "cell_type": "code",
   "execution_count": null,
   "metadata": {},
   "outputs": [],
   "source": [
    "\n"
   ]
  },
  {
   "cell_type": "code",
   "execution_count": null,
   "metadata": {},
   "outputs": [],
   "source": []
  },
  {
   "cell_type": "code",
   "execution_count": null,
   "metadata": {},
   "outputs": [],
   "source": [
    "\n"
   ]
  },
  {
   "cell_type": "code",
   "execution_count": null,
   "metadata": {},
   "outputs": [],
   "source": []
  },
  {
   "cell_type": "code",
   "execution_count": null,
   "metadata": {},
   "outputs": [],
   "source": []
  },
  {
   "cell_type": "code",
   "execution_count": null,
   "metadata": {
    "scrolled": true
   },
   "outputs": [],
   "source": []
  },
  {
   "cell_type": "code",
   "execution_count": null,
   "metadata": {},
   "outputs": [],
   "source": []
  },
  {
   "cell_type": "code",
   "execution_count": null,
   "metadata": {},
   "outputs": [],
   "source": []
  },
  {
   "cell_type": "code",
   "execution_count": null,
   "metadata": {},
   "outputs": [],
   "source": []
  }
 ],
 "metadata": {
  "kernelspec": {
   "display_name": "Python 3",
   "language": "python",
   "name": "python3"
  },
  "language_info": {
   "codemirror_mode": {
    "name": "ipython",
    "version": 3
   },
   "file_extension": ".py",
   "mimetype": "text/x-python",
   "name": "python",
   "nbconvert_exporter": "python",
   "pygments_lexer": "ipython3",
   "version": "3.7.6"
  }
 },
 "nbformat": 4,
 "nbformat_minor": 4
}
